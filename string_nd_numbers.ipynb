{
  "nbformat": 4,
  "nbformat_minor": 0,
  "metadata": {
    "colab": {
      "name": "string nd numbers.ipynb",
      "provenance": [],
      "collapsed_sections": [],
      "include_colab_link": true
    },
    "kernelspec": {
      "name": "python3",
      "display_name": "Python 3"
    },
    "language_info": {
      "name": "python"
    }
  },
  "cells": [
    {
      "cell_type": "markdown",
      "metadata": {
        "id": "view-in-github",
        "colab_type": "text"
      },
      "source": [
        "<a href=\"https://colab.research.google.com/github/WingZLeung/Python-data-structure/blob/main/string_nd_numbers.ipynb\" target=\"_parent\"><img src=\"https://colab.research.google.com/assets/colab-badge.svg\" alt=\"Open In Colab\"/></a>"
      ]
    },
    {
      "cell_type": "markdown",
      "metadata": {
        "id": "N0jblVZyOg36"
      },
      "source": [
        "Helloworld\n"
      ]
    },
    {
      "cell_type": "code",
      "metadata": {
        "colab": {
          "base_uri": "https://localhost:8080/"
        },
        "id": "GBvk1io1OnHg",
        "outputId": "a2a10701-2e0a-4f11-f411-2352f9b18f91"
      },
      "source": [
        "print(\"hello world\")"
      ],
      "execution_count": null,
      "outputs": [
        {
          "output_type": "stream",
          "name": "stdout",
          "text": [
            "hello world\n"
          ]
        }
      ]
    },
    {
      "cell_type": "code",
      "metadata": {
        "colab": {
          "base_uri": "https://localhost:8080/"
        },
        "id": "IKLTiyJZPDbI",
        "outputId": "82450433-c166-4516-e325-5a32de74e9c6"
      },
      "source": [
        "greeting = \"hello\"\n",
        "name = input(\"dhukao\")\n",
        "print(\"greeting \" + name)"
      ],
      "execution_count": null,
      "outputs": [
        {
          "output_type": "stream",
          "name": "stdout",
          "text": [
            "dhukaodddd\n",
            "greeting dddd\n"
          ]
        }
      ]
    },
    {
      "cell_type": "code",
      "metadata": {
        "colab": {
          "base_uri": "https://localhost:8080/"
        },
        "id": "0M-fX5jpPDfA",
        "outputId": "aacd39f3-8495-445f-9ac9-ff34bcac454b"
      },
      "source": [
        "print(\"Hello\" + \" \" +\"world\")"
      ],
      "execution_count": null,
      "outputs": [
        {
          "output_type": "stream",
          "name": "stdout",
          "text": [
            "Hello world\n"
          ]
        }
      ]
    },
    {
      "cell_type": "code",
      "metadata": {
        "colab": {
          "base_uri": "https://localhost:8080/"
        },
        "id": "s8lvQouxPZzH",
        "outputId": "60cfbe13-48b2-46b8-8e6c-eeda701a4046"
      },
      "source": [
        "print(4/2)"
      ],
      "execution_count": null,
      "outputs": [
        {
          "output_type": "stream",
          "name": "stdout",
          "text": [
            "2.0\n"
          ]
        }
      ]
    },
    {
      "cell_type": "code",
      "metadata": {
        "colab": {
          "base_uri": "https://localhost:8080/"
        },
        "id": "cX3NMe54PZ17",
        "outputId": "4d0b0356-08e7-44b2-fb46-ea3f1acd753d"
      },
      "source": [
        "print(10/3)"
      ],
      "execution_count": null,
      "outputs": [
        {
          "output_type": "stream",
          "name": "stdout",
          "text": [
            "3.3333333333333335\n"
          ]
        }
      ]
    },
    {
      "cell_type": "code",
      "metadata": {
        "id": "pJ3UyIx1Pq_J",
        "colab": {
          "base_uri": "https://localhost:8080/"
        },
        "outputId": "da04c0f0-a2c4-4453-97b6-26b4164a3f03"
      },
      "source": [
        "print(10//3)"
      ],
      "execution_count": null,
      "outputs": [
        {
          "output_type": "stream",
          "name": "stdout",
          "text": [
            "3\n"
          ]
        }
      ]
    },
    {
      "cell_type": "code",
      "metadata": {
        "colab": {
          "base_uri": "https://localhost:8080/"
        },
        "id": "WsU1wD5bPrBk",
        "outputId": "6c465987-15a7-40f3-ad18-b5f3c98ac6a2"
      },
      "source": [
        "print(10//4)"
      ],
      "execution_count": null,
      "outputs": [
        {
          "output_type": "stream",
          "name": "stdout",
          "text": [
            "2\n"
          ]
        }
      ]
    },
    {
      "cell_type": "markdown",
      "metadata": {
        "id": "yRO942zDRuxG"
      },
      "source": [
        "Escape Character"
      ]
    },
    {
      "cell_type": "code",
      "metadata": {
        "id": "MLRQgFLkRIhw"
      },
      "source": [
        "spttring= \"This string has been \\n split over \\n overall \\n several \\n lines\""
      ],
      "execution_count": null,
      "outputs": []
    },
    {
      "cell_type": "code",
      "metadata": {
        "colab": {
          "base_uri": "https://localhost:8080/"
        },
        "id": "55iRS9OKQwe3",
        "outputId": "650800bc-4d9b-41f8-c32e-4a267d2fcb16"
      },
      "source": [
        "print(spttring)"
      ],
      "execution_count": null,
      "outputs": [
        {
          "output_type": "stream",
          "name": "stdout",
          "text": [
            "This string has been \n",
            " split over \n",
            " overall \n",
            " several \n",
            " lines\n"
          ]
        }
      ]
    },
    {
      "cell_type": "code",
      "metadata": {
        "colab": {
          "base_uri": "https://localhost:8080/"
        },
        "id": "MehZESBtTGSg",
        "outputId": "7f257965-7cc9-46ce-f5c6-e8a96628a771"
      },
      "source": [
        "tabbedstring = \"1 \\t 2 2\\t 4 \\t \\t \\t3 5\"\n",
        "print(tabbedstring)"
      ],
      "execution_count": null,
      "outputs": [
        {
          "output_type": "stream",
          "name": "stdout",
          "text": [
            "1 \t 2 2\t 4 \t \t \t3 5\n"
          ]
        }
      ]
    },
    {
      "cell_type": "code",
      "metadata": {
        "colab": {
          "base_uri": "https://localhost:8080/"
        },
        "id": "l2IUWib_QwiF",
        "outputId": "5b12d6ad-9c95-4efc-bc27-f2d3bef8f1c3"
      },
      "source": [
        "\n",
        "print(\"\"\"fdfdf\n",
        "fdfdfdf\n",
        "dfdf\n",
        "ddd\n",
        "34343\n",
        "dfdf\"\"\")\n"
      ],
      "execution_count": null,
      "outputs": [
        {
          "output_type": "stream",
          "name": "stdout",
          "text": [
            "fdfdf\n",
            "fdfdfdf\n",
            "dfdf\n",
            "ddd\n",
            "34343\n",
            "dfdf\n"
          ]
        }
      ]
    },
    {
      "cell_type": "code",
      "metadata": {
        "colab": {
          "base_uri": "https://localhost:8080/"
        },
        "id": "GmFewSwsVIrO",
        "outputId": "59903507-0c1d-44d8-ebef-c5b083a7450d"
      },
      "source": [
        "age = \"3.00\"\n",
        "print(type(age))"
      ],
      "execution_count": null,
      "outputs": [
        {
          "output_type": "stream",
          "name": "stdout",
          "text": [
            "<class 'str'>\n"
          ]
        }
      ]
    },
    {
      "cell_type": "code",
      "metadata": {
        "colab": {
          "base_uri": "https://localhost:8080/"
        },
        "id": "zPHdLE6GW9cc",
        "outputId": "646efec9-b1d3-4081-c859-542d267fbcdd"
      },
      "source": [
        "print(12//3)"
      ],
      "execution_count": null,
      "outputs": [
        {
          "output_type": "stream",
          "name": "stdout",
          "text": [
            "4\n"
          ]
        }
      ]
    },
    {
      "cell_type": "code",
      "metadata": {
        "colab": {
          "base_uri": "https://localhost:8080/"
        },
        "id": "JRCul929VIvz",
        "outputId": "9fef8fb0-93d0-4660-f2c9-52939a3bdaae"
      },
      "source": [
        "a = 12 \n",
        "b=3\n",
        "for i in range(1,a//b):\n",
        "  print(i)"
      ],
      "execution_count": null,
      "outputs": [
        {
          "output_type": "stream",
          "name": "stdout",
          "text": [
            "1\n",
            "2\n",
            "3\n"
          ]
        }
      ]
    },
    {
      "cell_type": "code",
      "metadata": {
        "colab": {
          "base_uri": "https://localhost:8080/"
        },
        "id": "XA_8FHHJPrEU",
        "outputId": "a5ee34c1-cf76-4105-fe2b-0ec2f7ee994f"
      },
      "source": [
        "parrot = \"Norwegian Blue\"\n",
        "print(parrot)"
      ],
      "execution_count": null,
      "outputs": [
        {
          "output_type": "stream",
          "name": "stdout",
          "text": [
            "Norwegian Blue\n"
          ]
        }
      ]
    },
    {
      "cell_type": "code",
      "metadata": {
        "colab": {
          "base_uri": "https://localhost:8080/"
        },
        "id": "ga0lMC_vX1YS",
        "outputId": "518de12e-4b66-4397-85d6-9c2a1bead8ab"
      },
      "source": [
        "print(parrot[3])\n",
        "print(parrot[4])\n",
        "print(parrot[9])\n",
        "print(parrot[3])\n",
        "print(parrot[6])\n",
        "print(parrot[8])\n"
      ],
      "execution_count": null,
      "outputs": [
        {
          "output_type": "stream",
          "name": "stdout",
          "text": [
            "w\n",
            "e\n",
            " \n",
            "w\n",
            "i\n",
            "n\n"
          ]
        }
      ]
    },
    {
      "cell_type": "code",
      "metadata": {
        "colab": {
          "base_uri": "https://localhost:8080/"
        },
        "id": "OG_XATyqX1nQ",
        "outputId": "8ccaf440-351e-43b0-ab34-deb56db3cef2"
      },
      "source": [
        "print(parrot[-11])\n",
        "print(parrot[-10])\n",
        "print(parrot[-5])\n",
        "print(parrot[-11])\n",
        "print(parrot[-8])\n",
        "print(parrot[-6])"
      ],
      "execution_count": null,
      "outputs": [
        {
          "output_type": "stream",
          "name": "stdout",
          "text": [
            "w\n",
            "e\n",
            " \n",
            "w\n",
            "i\n",
            "n\n"
          ]
        }
      ]
    },
    {
      "cell_type": "code",
      "metadata": {
        "colab": {
          "base_uri": "https://localhost:8080/"
        },
        "id": "QVxrSN7lXdKs",
        "outputId": "3973e702-c3d7-4b8e-d2cf-9aa1288f2201"
      },
      "source": [
        "print(len(parrot))"
      ],
      "execution_count": null,
      "outputs": [
        {
          "output_type": "stream",
          "name": "stdout",
          "text": [
            "14\n"
          ]
        }
      ]
    },
    {
      "cell_type": "code",
      "metadata": {
        "colab": {
          "base_uri": "https://localhost:8080/"
        },
        "id": "eMvZh__KZRtW",
        "outputId": "723ab123-64d3-4072-9e7d-0da2b68c128d"
      },
      "source": [
        "print(parrot[-2])"
      ],
      "execution_count": null,
      "outputs": [
        {
          "output_type": "stream",
          "name": "stdout",
          "text": [
            "u\n"
          ]
        }
      ]
    },
    {
      "cell_type": "code",
      "metadata": {
        "colab": {
          "base_uri": "https://localhost:8080/"
        },
        "id": "FBcKw98JZoNn",
        "outputId": "86a843cb-1f3a-41fe-fe68-9f3073d8a5b9"
      },
      "source": [
        "print(parrot[3-14])\n",
        "print(parrot[4-14])\n",
        "print(parrot[9-14])\n",
        "print(parrot[3-14])\n",
        "print(parrot[6-14])\n",
        "print(parrot[8-14])"
      ],
      "execution_count": null,
      "outputs": [
        {
          "output_type": "stream",
          "name": "stdout",
          "text": [
            "w\n",
            "e\n",
            " \n",
            "w\n",
            "i\n",
            "n\n"
          ]
        }
      ]
    },
    {
      "cell_type": "code",
      "metadata": {
        "id": "SshC6Zv7fw9H"
      },
      "source": [
        "s = \"Hello world\""
      ],
      "execution_count": null,
      "outputs": []
    },
    {
      "cell_type": "code",
      "metadata": {
        "colab": {
          "base_uri": "https://localhost:8080/"
        },
        "id": "F9Yd0BkyfxAs",
        "outputId": "ec710bec-1c12-4676-8282-24c1a1d82db9"
      },
      "source": [
        "print(s)"
      ],
      "execution_count": null,
      "outputs": [
        {
          "output_type": "stream",
          "name": "stdout",
          "text": [
            "Hello world\n"
          ]
        }
      ]
    },
    {
      "cell_type": "code",
      "metadata": {
        "colab": {
          "base_uri": "https://localhost:8080/"
        },
        "id": "GFb-mdSDfxEq",
        "outputId": "4eefa740-24aa-4197-d1fd-9347230af136"
      },
      "source": [
        "print(s[0])"
      ],
      "execution_count": null,
      "outputs": [
        {
          "output_type": "stream",
          "name": "stdout",
          "text": [
            "H\n"
          ]
        }
      ]
    },
    {
      "cell_type": "code",
      "metadata": {
        "colab": {
          "base_uri": "https://localhost:8080/",
          "height": 35
        },
        "id": "Rem3J8K2fxHx",
        "outputId": "7cb56530-5a9b-4720-b047-638ba043eaf4"
      },
      "source": [
        "s[2]"
      ],
      "execution_count": null,
      "outputs": [
        {
          "output_type": "execute_result",
          "data": {
            "application/vnd.google.colaboratory.intrinsic+json": {
              "type": "string"
            },
            "text/plain": [
              "'l'"
            ]
          },
          "metadata": {},
          "execution_count": 65
        }
      ]
    },
    {
      "cell_type": "code",
      "metadata": {
        "colab": {
          "base_uri": "https://localhost:8080/",
          "height": 35
        },
        "id": "KhxvHC7EfxK5",
        "outputId": "a500aa0a-d459-4930-a42a-1a2b706a2434"
      },
      "source": [
        "s[-1]"
      ],
      "execution_count": null,
      "outputs": [
        {
          "output_type": "execute_result",
          "data": {
            "application/vnd.google.colaboratory.intrinsic+json": {
              "type": "string"
            },
            "text/plain": [
              "'d'"
            ]
          },
          "metadata": {},
          "execution_count": 66
        }
      ]
    },
    {
      "cell_type": "code",
      "metadata": {
        "colab": {
          "base_uri": "https://localhost:8080/",
          "height": 35
        },
        "id": "kcRRrrUffxNW",
        "outputId": "ff2b2f88-05d0-4399-9aff-d420880b263c"
      },
      "source": [
        "s[0:5]"
      ],
      "execution_count": null,
      "outputs": [
        {
          "output_type": "execute_result",
          "data": {
            "application/vnd.google.colaboratory.intrinsic+json": {
              "type": "string"
            },
            "text/plain": [
              "'Hello'"
            ]
          },
          "metadata": {},
          "execution_count": 70
        }
      ]
    },
    {
      "cell_type": "code",
      "metadata": {
        "colab": {
          "base_uri": "https://localhost:8080/",
          "height": 35
        },
        "id": "BDMkaFe6hgdQ",
        "outputId": "b5c375de-c82b-489b-fc44-181a90d00558"
      },
      "source": [
        "s[-1]"
      ],
      "execution_count": null,
      "outputs": [
        {
          "output_type": "execute_result",
          "data": {
            "application/vnd.google.colaboratory.intrinsic+json": {
              "type": "string"
            },
            "text/plain": [
              "'d'"
            ]
          },
          "metadata": {},
          "execution_count": 71
        }
      ]
    },
    {
      "cell_type": "code",
      "metadata": {
        "colab": {
          "base_uri": "https://localhost:8080/",
          "height": 35
        },
        "id": "QqbWPT7QgtVb",
        "outputId": "a26ab04c-23fe-4a1c-fbe5-1d87684b9382"
      },
      "source": [
        "s[:-1]"
      ],
      "execution_count": null,
      "outputs": [
        {
          "output_type": "execute_result",
          "data": {
            "application/vnd.google.colaboratory.intrinsic+json": {
              "type": "string"
            },
            "text/plain": [
              "'Hello worl'"
            ]
          },
          "metadata": {},
          "execution_count": 78
        }
      ]
    },
    {
      "cell_type": "code",
      "metadata": {
        "colab": {
          "base_uri": "https://localhost:8080/",
          "height": 35
        },
        "id": "YE0H8ZJ9i_S1",
        "outputId": "f7d35b65-9ecd-4d26-f224-5bd4f6ac9e63"
      },
      "source": [
        "s[::-1]"
      ],
      "execution_count": null,
      "outputs": [
        {
          "output_type": "execute_result",
          "data": {
            "application/vnd.google.colaboratory.intrinsic+json": {
              "type": "string"
            },
            "text/plain": [
              "'dlrow olleH'"
            ]
          },
          "metadata": {},
          "execution_count": 82
        }
      ]
    },
    {
      "cell_type": "code",
      "metadata": {
        "colab": {
          "base_uri": "https://localhost:8080/",
          "height": 35
        },
        "id": "bXwfTl6vlm3M",
        "outputId": "6511ad6f-455c-44f5-c07d-4beb39ff48ca"
      },
      "source": [
        "s[2:9:-2]"
      ],
      "execution_count": null,
      "outputs": [
        {
          "output_type": "execute_result",
          "data": {
            "application/vnd.google.colaboratory.intrinsic+json": {
              "type": "string"
            },
            "text/plain": [
              "''"
            ]
          },
          "metadata": {},
          "execution_count": 104
        }
      ]
    },
    {
      "cell_type": "code",
      "metadata": {
        "colab": {
          "base_uri": "https://localhost:8080/",
          "height": 35
        },
        "id": "dylXoGtvjyYv",
        "outputId": "ba4fb742-d049-4f2d-b5d5-da35481bb3c5"
      },
      "source": [
        "s[-9:-6:2]"
      ],
      "execution_count": null,
      "outputs": [
        {
          "output_type": "execute_result",
          "data": {
            "application/vnd.google.colaboratory.intrinsic+json": {
              "type": "string"
            },
            "text/plain": [
              "'lo'"
            ]
          },
          "metadata": {},
          "execution_count": 111
        }
      ]
    },
    {
      "cell_type": "code",
      "metadata": {
        "colab": {
          "base_uri": "https://localhost:8080/",
          "height": 35
        },
        "id": "vvtscLtCltS6",
        "outputId": "79ba54bf-6dd8-4d63-e845-af0ce6f0e72c"
      },
      "source": [
        "s[9:-6:-2]"
      ],
      "execution_count": null,
      "outputs": [
        {
          "output_type": "execute_result",
          "data": {
            "application/vnd.google.colaboratory.intrinsic+json": {
              "type": "string"
            },
            "text/plain": [
              "'lo'"
            ]
          },
          "metadata": {},
          "execution_count": 107
        }
      ]
    },
    {
      "cell_type": "code",
      "metadata": {
        "colab": {
          "base_uri": "https://localhost:8080/",
          "height": 35
        },
        "id": "d6zvuBjOlxP0",
        "outputId": "3c4ff730-2a66-4cab-c5d7-cf5634f94fc3"
      },
      "source": [
        "s[:5]"
      ],
      "execution_count": null,
      "outputs": [
        {
          "output_type": "execute_result",
          "data": {
            "application/vnd.google.colaboratory.intrinsic+json": {
              "type": "string"
            },
            "text/plain": [
              "''"
            ]
          },
          "metadata": {},
          "execution_count": 114
        }
      ]
    },
    {
      "cell_type": "code",
      "metadata": {
        "colab": {
          "base_uri": "https://localhost:8080/",
          "height": 35
        },
        "id": "ZAxtdp0ElxSc",
        "outputId": "4aa0ce57-f94b-4509-b5a7-9e9eb944e3c3"
      },
      "source": [
        "s[-9:6:2]"
      ],
      "execution_count": null,
      "outputs": [
        {
          "output_type": "execute_result",
          "data": {
            "application/vnd.google.colaboratory.intrinsic+json": {
              "type": "string"
            },
            "text/plain": [
              "'lo'"
            ]
          },
          "metadata": {},
          "execution_count": 113
        }
      ]
    },
    {
      "cell_type": "code",
      "metadata": {
        "colab": {
          "base_uri": "https://localhost:8080/",
          "height": 35
        },
        "id": "DBgKHE4slxUx",
        "outputId": "b5125c2a-b34b-483c-c364-fdfb1db0dc04"
      },
      "source": [
        "s[6:9:2]"
      ],
      "execution_count": null,
      "outputs": [
        {
          "output_type": "execute_result",
          "data": {
            "application/vnd.google.colaboratory.intrinsic+json": {
              "type": "string"
            },
            "text/plain": [
              "'wr'"
            ]
          },
          "metadata": {},
          "execution_count": 110
        }
      ]
    },
    {
      "cell_type": "code",
      "metadata": {
        "colab": {
          "base_uri": "https://localhost:8080/"
        },
        "id": "BMQwpXHujyiJ",
        "outputId": "203d9bc2-1184-4511-ba32-3ab9c6b87898"
      },
      "source": [
        "len(s)"
      ],
      "execution_count": null,
      "outputs": [
        {
          "output_type": "execute_result",
          "data": {
            "text/plain": [
              "11"
            ]
          },
          "metadata": {},
          "execution_count": 100
        }
      ]
    },
    {
      "cell_type": "code",
      "metadata": {
        "id": "AwG8f1WqgtYk"
      },
      "source": [
        "s = \"123456789\""
      ],
      "execution_count": null,
      "outputs": []
    },
    {
      "cell_type": "code",
      "metadata": {
        "colab": {
          "base_uri": "https://localhost:8080/",
          "height": 35
        },
        "id": "owrfb6LQnwC5",
        "outputId": "92657f3f-3ed8-435a-aa05-d4c6a63f2edf"
      },
      "source": [
        "s[-3:1:-1]"
      ],
      "execution_count": null,
      "outputs": [
        {
          "output_type": "execute_result",
          "data": {
            "application/vnd.google.colaboratory.intrinsic+json": {
              "type": "string"
            },
            "text/plain": [
              "'76543'"
            ]
          },
          "metadata": {},
          "execution_count": 121
        }
      ]
    },
    {
      "cell_type": "code",
      "metadata": {
        "colab": {
          "base_uri": "https://localhost:8080/",
          "height": 35
        },
        "id": "jHR84ZTfnwFn",
        "outputId": "3ecf7fe6-8db9-42ac-c5fc-47ace4ddcf20"
      },
      "source": [
        "s[-1:-5:-2]"
      ],
      "execution_count": null,
      "outputs": [
        {
          "output_type": "execute_result",
          "data": {
            "application/vnd.google.colaboratory.intrinsic+json": {
              "type": "string"
            },
            "text/plain": [
              "'97'"
            ]
          },
          "metadata": {},
          "execution_count": 122
        }
      ]
    },
    {
      "cell_type": "code",
      "metadata": {
        "colab": {
          "base_uri": "https://localhost:8080/",
          "height": 35
        },
        "id": "Yi_lZXt3nwIv",
        "outputId": "cfed8b44-773b-4509-e6c3-cea38d99ed2e"
      },
      "source": [
        "s[2:-2:2]"
      ],
      "execution_count": null,
      "outputs": [
        {
          "output_type": "execute_result",
          "data": {
            "application/vnd.google.colaboratory.intrinsic+json": {
              "type": "string"
            },
            "text/plain": [
              "'357'"
            ]
          },
          "metadata": {},
          "execution_count": 128
        }
      ]
    },
    {
      "cell_type": "code",
      "metadata": {
        "colab": {
          "base_uri": "https://localhost:8080/",
          "height": 35
        },
        "id": "xXns7D85oEpG",
        "outputId": "ec963d5c-2f5c-48d0-9715-48a8e9e1133b"
      },
      "source": [
        "s[-2:2:-2]"
      ],
      "execution_count": null,
      "outputs": [
        {
          "output_type": "execute_result",
          "data": {
            "application/vnd.google.colaboratory.intrinsic+json": {
              "type": "string"
            },
            "text/plain": [
              "'864'"
            ]
          },
          "metadata": {},
          "execution_count": 124
        }
      ]
    },
    {
      "cell_type": "code",
      "metadata": {
        "id": "bWyWsq_Dpfx9"
      },
      "source": [
        "letter = 'Wing'"
      ],
      "execution_count": null,
      "outputs": []
    },
    {
      "cell_type": "code",
      "metadata": {
        "colab": {
          "base_uri": "https://localhost:8080/",
          "height": 35
        },
        "id": "8Ed5Wx4_pgMm",
        "outputId": "9782e214-a31e-4b07-8b9c-d5da9a3aea65"
      },
      "source": [
        "letter*10"
      ],
      "execution_count": null,
      "outputs": [
        {
          "output_type": "execute_result",
          "data": {
            "application/vnd.google.colaboratory.intrinsic+json": {
              "type": "string"
            },
            "text/plain": [
              "'WingWingWingWingWingWingWingWingWingWing'"
            ]
          },
          "metadata": {},
          "execution_count": 132
        }
      ]
    },
    {
      "cell_type": "markdown",
      "metadata": {
        "id": "m6_sILDup9Ej"
      },
      "source": [
        "Printing String\n",
        "Format method \n",
        "f string\n",
        "(String Interpolation)\n"
      ]
    },
    {
      "cell_type": "code",
      "metadata": {
        "colab": {
          "base_uri": "https://localhost:8080/"
        },
        "id": "NTveoJtdpgTi",
        "outputId": "2c174f41-0b73-4f9b-e7d5-c3e073cd4705"
      },
      "source": [
        "print(\"This is a String's {} \".format('Inserted'))"
      ],
      "execution_count": null,
      "outputs": [
        {
          "output_type": "stream",
          "name": "stdout",
          "text": [
            "This is a String Inserted \n"
          ]
        }
      ]
    },
    {
      "cell_type": "code",
      "metadata": {
        "colab": {
          "base_uri": "https://localhost:8080/"
        },
        "id": "uTGMISAOroHI",
        "outputId": "0e8826d9-74a6-421c-a5d8-5a3dc05fd0ee"
      },
      "source": [
        "print('The {2} {1} {0}'.format('fox','brown','quick'))"
      ],
      "execution_count": null,
      "outputs": [
        {
          "output_type": "stream",
          "name": "stdout",
          "text": [
            "The quick brown fox\n"
          ]
        }
      ]
    },
    {
      "cell_type": "code",
      "metadata": {
        "colab": {
          "base_uri": "https://localhost:8080/"
        },
        "id": "X2sTSBlasRl8",
        "outputId": "b9b84a34-058e-4bc9-b5b3-cb79db3d6dc5"
      },
      "source": [
        "print('the {f} {b} {q}'.format(f='fox',b='box',q='quick') )"
      ],
      "execution_count": null,
      "outputs": [
        {
          "output_type": "stream",
          "name": "stdout",
          "text": [
            "the fox box quick\n"
          ]
        }
      ]
    },
    {
      "cell_type": "code",
      "metadata": {
        "id": "_0atnSyHroaU",
        "colab": {
          "base_uri": "https://localhost:8080/"
        },
        "outputId": "c51bcdde-6d82-48f2-ad57-29789be971f3"
      },
      "source": [
        "print(\"I am {years} years old and my favourite colour is {modifier}{colour}\".format(years = \"20\", modifier = \"dark \", colour = \"blue\"))"
      ],
      "execution_count": null,
      "outputs": [
        {
          "output_type": "stream",
          "name": "stdout",
          "text": [
            "I am 20 years old and my favourite colour is dark blue\n"
          ]
        }
      ]
    },
    {
      "cell_type": "code",
      "metadata": {
        "id": "SlJo6w0laVDH",
        "colab": {
          "base_uri": "https://localhost:8080/"
        },
        "outputId": "21a0f1e7-fdf6-4589-d90f-2b7a1606200f"
      },
      "source": [
        "result = 100/777\n",
        "print(\"the result was {}\".format(result))"
      ],
      "execution_count": null,
      "outputs": [
        {
          "output_type": "stream",
          "name": "stdout",
          "text": [
            "the result was 0.1287001287001287\n"
          ]
        }
      ]
    },
    {
      "cell_type": "markdown",
      "metadata": {
        "id": "4hu0uju-aVK8"
      },
      "source": [
        "Float formatting follows \"{Values:Width.Precision f}\""
      ]
    },
    {
      "cell_type": "code",
      "metadata": {
        "id": "Ox3fq7D5aVWF",
        "colab": {
          "base_uri": "https://localhost:8080/"
        },
        "outputId": "f22eb1af-5505-434d-a6b1-0474bc60847d"
      },
      "source": [
        "print(\"The result was {r:10.6f}\".format(r=result))"
      ],
      "execution_count": null,
      "outputs": [
        {
          "output_type": "stream",
          "name": "stdout",
          "text": [
            "The result was   0.128700\n"
          ]
        }
      ]
    },
    {
      "cell_type": "markdown",
      "metadata": {
        "id": "BRbpqn-8n_Dh"
      },
      "source": [
        "F string"
      ]
    },
    {
      "cell_type": "code",
      "metadata": {
        "colab": {
          "base_uri": "https://localhost:8080/"
        },
        "id": "wcEang2Mn_GY",
        "outputId": "63baf876-9260-4839-8057-31c0a8ff751f"
      },
      "source": [
        "name = \"Sami\"\n",
        "print(f'Hello ,This is {name}')"
      ],
      "execution_count": null,
      "outputs": [
        {
          "output_type": "stream",
          "name": "stdout",
          "text": [
            "Hello ,This is Sami\n"
          ]
        }
      ]
    },
    {
      "cell_type": "code",
      "metadata": {
        "colab": {
          "base_uri": "https://localhost:8080/"
        },
        "id": "0Q729BMWoZc5",
        "outputId": "c822ef27-a015-4062-db33-8890e02e2fa2"
      },
      "source": [
        "print(f\" pi is approxamately {22/7:2.5f}\")"
      ],
      "execution_count": null,
      "outputs": [
        {
          "output_type": "stream",
          "name": "stdout",
          "text": [
            " pi is approxamately 3.14286\n"
          ]
        }
      ]
    },
    {
      "cell_type": "code",
      "metadata": {
        "id": "dAmB4JqroZfc"
      },
      "source": [
        ""
      ],
      "execution_count": null,
      "outputs": []
    },
    {
      "cell_type": "code",
      "metadata": {
        "id": "aeF6riUtoZiJ"
      },
      "source": [
        ""
      ],
      "execution_count": null,
      "outputs": []
    }
  ]
}